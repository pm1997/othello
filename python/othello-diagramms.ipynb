{
 "cells": [
  {
   "cell_type": "code",
   "execution_count": 1,
   "metadata": {},
   "outputs": [],
   "source": [
    "import numpy as np"
   ]
  },
  {
   "cell_type": "code",
   "execution_count": 2,
   "metadata": {},
   "outputs": [],
   "source": [
    "csv = np.loadtxt(\"database_moves.csv\", delimiter=';', dtype='int64')\n",
    "data = csv.reshape((60, 9, 3))"
   ]
  },
  {
   "cell_type": "code",
   "execution_count": 3,
   "metadata": {},
   "outputs": [],
   "source": [
    "Y_player1 = {}\n",
    "Y_player2 = {}\n",
    "Y_Cat_player1 = {}\n",
    "Y_Cat_player2 = {}\n",
    "for turn in range(len(data)):\n",
    "    Y_Cat_player1[turn] = []\n",
    "    Y_Cat_player2[turn] = []\n",
    "for fc in range(9):\n",
    "    Y_player1[fc] = []\n",
    "    Y_player2[fc] = []\n",
    "for turn in range(len(data)):\n",
    "    for field_category in range(9):\n",
    "        games_played = data[turn][field_category][2]\n",
    "        won_1 = data[turn][field_category][0]\n",
    "        won_2 = data[turn][field_category][1]\n",
    "        if games_played != 0:\n",
    "            chance_1 = won_1 / games_played\n",
    "            chance_2 = won_2 / games_played\n",
    "        else:\n",
    "            chance_1 = 0\n",
    "            chance_2 = 0\n",
    "        Y_player1[field_category].append(chance_1)\n",
    "        Y_player2[field_category].append(chance_2)\n",
    "        Y_Cat_player1[turn].append(chance_1)\n",
    "        Y_Cat_player2[turn].append(chance_2)"
   ]
  },
  {
   "cell_type": "code",
   "execution_count": null,
   "metadata": {},
   "outputs": [],
   "source": [
    "import matplotlib.pyplot as plt\n",
    "import seaborn           as sns     "
   ]
  },
  {
   "cell_type": "code",
   "execution_count": null,
   "metadata": {},
   "outputs": [],
   "source": [
    "import matplotlib.pyplot as plt\n",
    "import seaborn           as sns\n",
    "def plot_category_scatter(c):\n",
    "    X = [i+1 for i in range(60)]\n",
    "    plt.figure(figsize=(10, 8))\n",
    "    sns.set(style='darkgrid')\n",
    "    plt.title(f'Gewinnwahrscheinlichkeit nach Zugnummer für Feldkategorie {c}')\n",
    "    plt.axvline(x=0.0, c='k')\n",
    "    plt.axhline(y=0.0, c='k')\n",
    "    plt.xlabel('Zugnummer')\n",
    "    plt.ylabel('Gewinnwahrscheinlichkeit')\n",
    "    plt.xticks(np.arange(0, 60, step=2.0))\n",
    "    plt.yticks(np.arange(0, .7, step=0.1))\n",
    "    plt.scatter(X, Y_player1[c], color='b', label=\"Spieler 1\") # plot player1 in blue\n",
    "    plt.scatter(X, Y_player2[c], color='r', label=\"Spieler 2\") # plot player2 in red\n",
    "    plt.legend()\n",
    "    plt.savefig(f\"othello-scatter-field_category{c}.pdf\")\n",
    "def plot_category(c):\n",
    "    X = [i+1 for i in range(60)]\n",
    "    plt.figure(figsize=(10, 8))\n",
    "    sns.set(style='darkgrid')\n",
    "    plt.title(f'Gewinnwahrscheinlichkeit nach Zugnummer für Feldkategorie {c}')\n",
    "    plt.axvline(x=0.0, c='k')\n",
    "    plt.axhline(y=0.0, c='k')\n",
    "    plt.xlabel('Zugnummer')\n",
    "    plt.ylabel('Gewinnwahrscheinlichkeit')\n",
    "    plt.xticks(np.arange(0, 60, step=2.0))\n",
    "    plt.yticks(np.arange(0, .7, step=0.1))\n",
    "    plt.plot(X, Y_player1[c], color='b', label=\"Spieler 1\") # plot player1 in blue\n",
    "    plt.plot(X, Y_player2[c], color='r', label=\"Spieler 2\") # plot player2 in red\n",
    "    plt.legend()\n",
    "    plt.savefig(f\"othello-field_category{c}.pdf\")"
   ]
  },
  {
   "cell_type": "code",
   "execution_count": null,
   "metadata": {},
   "outputs": [],
   "source": [
    "def plot_turn_scatter(t):\n",
    "    X = [i+1 for i in range(9)]\n",
    "    plt.figure(figsize=(10, 8))\n",
    "    sns.set(style='darkgrid')\n",
    "    plt.title(f'Gewinnwahrscheinlichkeit nach Feld-Kategorie für Zugnummer {t}')\n",
    "    plt.axvline(x=0.0, c='k')\n",
    "    plt.axhline(y=0.0, c='k')\n",
    "    plt.xlabel('Feld Kategorie')\n",
    "    plt.ylabel('Gewinnwahrscheinlichkeit')\n",
    "    plt.xticks(np.arange(0, 9, step=1.0))\n",
    "    plt.yticks(np.arange(0, .7, step=0.1))\n",
    "    plt.scatter(X, Y_Cat_player1[t], color='b', label=\"Spieler 1\") # plot player1 in blue\n",
    "    plt.scatter(X, Y_Cat_player2[t], color='r', label=\"Spieler 2\") # plot player2 in red\n",
    "    plt.legend()\n",
    "    plt.savefig(f\"othello-scatter-field_category-by_turn{t}.pdf\")\n",
    "def plot_turn(t):\n",
    "    X = [i+1 for i in range(9)]\n",
    "    plt.figure(figsize=(10, 8))\n",
    "    sns.set(style='darkgrid')\n",
    "    plt.title(f'Gewinnwahrscheinlichkeit nach Feld-Kategorie für Zugnummer {t}')\n",
    "    plt.axvline(x=0.0, c='k')\n",
    "    plt.axhline(y=0.0, c='k')\n",
    "    plt.xlabel('Feldkategorie')\n",
    "    plt.ylabel('Gewinnwahrscheinlichkeit')\n",
    "    plt.xticks(np.arange(0, 9, step=1.0))\n",
    "    plt.yticks(np.arange(0, .7, step=0.1))\n",
    "    plt.plot(X, Y_Cat_player1[t], color='b', label=\"Player 1\") # plot player1 in blue\n",
    "    plt.plot(X, Y_Cat_player2[t], color='r', label=\"Player 2\") # plot player2 in red\n",
    "    plt.legend()\n",
    "    plt.savefig(f\"othello-field_category-by_turn{t}.pdf\")"
   ]
  },
  {
   "cell_type": "code",
   "execution_count": null,
   "metadata": {},
   "outputs": [],
   "source": [
    "for category in range(9):\n",
    "    plot_category_scatter(category)"
   ]
  },
  {
   "cell_type": "code",
   "execution_count": null,
   "metadata": {},
   "outputs": [],
   "source": [
    "for turn in range(len(data)):\n",
    "    plot_turn_scatter(turn)"
   ]
  },
  {
   "cell_type": "code",
   "execution_count": null,
   "metadata": {},
   "outputs": [],
   "source": []
  }
 ],
 "metadata": {
  "kernelspec": {
   "display_name": "Python 3",
   "language": "python",
   "name": "python3"
  },
  "language_info": {
   "codemirror_mode": {
    "name": "ipython",
    "version": 3
   },
   "file_extension": ".py",
   "mimetype": "text/x-python",
   "name": "python",
   "nbconvert_exporter": "python",
   "pygments_lexer": "ipython3",
   "version": "3.7.1"
  }
 },
 "nbformat": 4,
 "nbformat_minor": 2
}
